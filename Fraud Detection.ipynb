{
 "cells": [
  {
   "cell_type": "code",
   "execution_count": 48,
   "id": "dd3422a8-2b9d-44d9-ae56-52373c1f46d2",
   "metadata": {},
   "outputs": [],
   "source": [
    "import pandas as pd\n",
    "import numpy as np\n",
    "import seaborn as sns\n",
    "%matplotlib inline\n",
    "import warnings\n",
    "warnings.filterwarnings('ignore')\n",
    "import matplotlib.pyplot as plt\n",
    "%matplotlib inline\n",
    "import seaborn as sns"
   ]
  },
  {
   "cell_type": "code",
   "execution_count": 4,
   "id": "23273da6-35b7-49cf-8335-aee32fdceb59",
   "metadata": {},
   "outputs": [],
   "source": [
    "#Importing Data\n",
    "df = pd.read_csv(r'C:\\Users\\kunwa\\Downloads\\Fraud Detection.csv' , encoding='unicode_escape')"
   ]
  },
  {
   "cell_type": "markdown",
   "id": "30e4e258-f6be-4c3a-80d6-693dbb5e9afd",
   "metadata": {},
   "source": [
    "# Understanding the data"
   ]
  },
  {
   "cell_type": "code",
   "execution_count": 63,
   "id": "abb571dd-9463-4bdc-b877-0183dbdd824a",
   "metadata": {},
   "outputs": [
    {
     "data": {
      "text/plain": [
       "(20, 6)"
      ]
     },
     "execution_count": 63,
     "metadata": {},
     "output_type": "execute_result"
    }
   ],
   "source": [
    "#Understanding the data length\n",
    "df.shape"
   ]
  },
  {
   "cell_type": "code",
   "execution_count": 6,
   "id": "8de766ac-062a-49d8-8e65-09b2ae5e56ea",
   "metadata": {},
   "outputs": [
    {
     "data": {
      "text/html": [
       "<div>\n",
       "<style scoped>\n",
       "    .dataframe tbody tr th:only-of-type {\n",
       "        vertical-align: middle;\n",
       "    }\n",
       "\n",
       "    .dataframe tbody tr th {\n",
       "        vertical-align: top;\n",
       "    }\n",
       "\n",
       "    .dataframe thead th {\n",
       "        text-align: right;\n",
       "    }\n",
       "</style>\n",
       "<table border=\"1\" class=\"dataframe\">\n",
       "  <thead>\n",
       "    <tr style=\"text-align: right;\">\n",
       "      <th></th>\n",
       "      <th>Transaction_ID</th>\n",
       "      <th>Customer_ID</th>\n",
       "      <th>Transaction_Amount</th>\n",
       "      <th>Location</th>\n",
       "      <th>Time_of_Day</th>\n",
       "      <th>Is_Fraudulent</th>\n",
       "    </tr>\n",
       "  </thead>\n",
       "  <tbody>\n",
       "    <tr>\n",
       "      <th>0</th>\n",
       "      <td>1</td>\n",
       "      <td>101</td>\n",
       "      <td>1000</td>\n",
       "      <td>Mumbai</td>\n",
       "      <td>Morning</td>\n",
       "      <td>0</td>\n",
       "    </tr>\n",
       "    <tr>\n",
       "      <th>1</th>\n",
       "      <td>2</td>\n",
       "      <td>102</td>\n",
       "      <td>500</td>\n",
       "      <td>Delhi</td>\n",
       "      <td>Afternoon</td>\n",
       "      <td>1</td>\n",
       "    </tr>\n",
       "    <tr>\n",
       "      <th>2</th>\n",
       "      <td>3</td>\n",
       "      <td>103</td>\n",
       "      <td>2000</td>\n",
       "      <td>Chennai</td>\n",
       "      <td>Evening</td>\n",
       "      <td>0</td>\n",
       "    </tr>\n",
       "    <tr>\n",
       "      <th>3</th>\n",
       "      <td>4</td>\n",
       "      <td>104</td>\n",
       "      <td>300</td>\n",
       "      <td>Gujarat</td>\n",
       "      <td>Morning</td>\n",
       "      <td>1</td>\n",
       "    </tr>\n",
       "    <tr>\n",
       "      <th>4</th>\n",
       "      <td>5</td>\n",
       "      <td>105</td>\n",
       "      <td>800</td>\n",
       "      <td>Bengalore</td>\n",
       "      <td>Afternoon</td>\n",
       "      <td>0</td>\n",
       "    </tr>\n",
       "  </tbody>\n",
       "</table>\n",
       "</div>"
      ],
      "text/plain": [
       "   Transaction_ID  Customer_ID  Transaction_Amount   Location Time_of_Day  \\\n",
       "0               1          101                1000     Mumbai     Morning   \n",
       "1               2          102                 500      Delhi   Afternoon   \n",
       "2               3          103                2000    Chennai     Evening   \n",
       "3               4          104                 300    Gujarat     Morning   \n",
       "4               5          105                 800  Bengalore   Afternoon   \n",
       "\n",
       "   Is_Fraudulent  \n",
       "0              0  \n",
       "1              1  \n",
       "2              0  \n",
       "3              1  \n",
       "4              0  "
      ]
     },
     "execution_count": 6,
     "metadata": {},
     "output_type": "execute_result"
    }
   ],
   "source": [
    "#Checking First Five Rows & Columns\n",
    "df.head()"
   ]
  },
  {
   "cell_type": "code",
   "execution_count": 17,
   "id": "473caf0f-f8df-4d2a-9e5e-18bf98345ac7",
   "metadata": {},
   "outputs": [
    {
     "name": "stdout",
     "output_type": "stream",
     "text": [
      "<class 'pandas.core.frame.DataFrame'>\n",
      "RangeIndex: 20 entries, 0 to 19\n",
      "Data columns (total 6 columns):\n",
      " #   Column              Non-Null Count  Dtype \n",
      "---  ------              --------------  ----- \n",
      " 0   Transaction_ID      20 non-null     int64 \n",
      " 1   Customer_ID         20 non-null     int64 \n",
      " 2   Transaction_Amount  20 non-null     int64 \n",
      " 3   Location            20 non-null     object\n",
      " 4   Time_of_Day         20 non-null     object\n",
      " 5   Is_Fraudulent       20 non-null     int64 \n",
      "dtypes: int64(4), object(2)\n",
      "memory usage: 1.1+ KB\n"
     ]
    }
   ],
   "source": [
    "#Checking for datatypes\n",
    "df.info()   "
   ]
  },
  {
   "cell_type": "code",
   "execution_count": 18,
   "id": "c2617a7d-799f-40c2-b6ef-6bb1e59c807a",
   "metadata": {},
   "outputs": [
    {
     "data": {
      "text/plain": [
       "Transaction_ID        0\n",
       "Customer_ID           0\n",
       "Transaction_Amount    0\n",
       "Location              0\n",
       "Time_of_Day           0\n",
       "Is_Fraudulent         0\n",
       "dtype: int64"
      ]
     },
     "execution_count": 18,
     "metadata": {},
     "output_type": "execute_result"
    }
   ],
   "source": [
    "#checking for null values\n",
    "pd.isnull(df).sum()"
   ]
  },
  {
   "cell_type": "markdown",
   "id": "93a3d5a3-c321-40ae-b105-1f9858dd6142",
   "metadata": {},
   "source": [
    "# Exploratory Data Analysis"
   ]
  },
  {
   "cell_type": "code",
   "execution_count": 80,
   "id": "1c842c3a-6814-4e22-aa9e-daf7a84a4108",
   "metadata": {},
   "outputs": [],
   "source": [
    "fraud = df.loc[df['Is_Fraudulent'] == 1]     #assigning fraud transation values separately\n",
    "normal = df.loc[df['Is_Fraudulent'] == 0]    #assigning normal transaction values separately"
   ]
  },
  {
   "cell_type": "code",
   "execution_count": 81,
   "id": "a87278c8-7550-4ad4-bdd4-e4cade6558bd",
   "metadata": {},
   "outputs": [
    {
     "data": {
      "text/plain": [
       "8"
      ]
     },
     "execution_count": 81,
     "metadata": {},
     "output_type": "execute_result"
    }
   ],
   "source": [
    "#total fraud transactions\n",
    "len(fraud)"
   ]
  },
  {
   "cell_type": "code",
   "execution_count": 21,
   "id": "c2ff1fc1-98b4-4e95-b2d4-0529fb64d860",
   "metadata": {},
   "outputs": [
    {
     "data": {
      "text/plain": [
       "12"
      ]
     },
     "execution_count": 21,
     "metadata": {},
     "output_type": "execute_result"
    }
   ],
   "source": [
    "#total normal transcation\n",
    "len(normal)     #total normal transcation"
   ]
  },
  {
   "cell_type": "code",
   "execution_count": 22,
   "id": "f865b5c5-6540-470f-81ac-685168a5b2c5",
   "metadata": {},
   "outputs": [],
   "source": [
    "#Transcation Percentage\n",
    "transaction_percent = df['Is_Fraudulent'].value_counts(normalize= 'True')"
   ]
  },
  {
   "cell_type": "code",
   "execution_count": 23,
   "id": "8320d7d9-e466-4d4a-aa1d-a6823e11176d",
   "metadata": {},
   "outputs": [
    {
     "data": {
      "text/plain": [
       "Is_Fraudulent\n",
       "0    0.6\n",
       "1    0.4\n",
       "Name: proportion, dtype: float64"
      ]
     },
     "execution_count": 23,
     "metadata": {},
     "output_type": "execute_result"
    }
   ],
   "source": [
    "transaction_percent"
   ]
  },
  {
   "cell_type": "markdown",
   "id": "ce5059f5-e64a-4e58-b5f8-f5e6bd548bc3",
   "metadata": {},
   "source": [
    "#### We can clearly see above that 60% transactions are normal & about 40% is fraud."
   ]
  },
  {
   "cell_type": "raw",
   "id": "602df62e-4fdd-4acf-8c35-cd030ad576be",
   "metadata": {},
   "source": []
  },
  {
   "cell_type": "code",
   "execution_count": 59,
   "id": "8a3fff89-2d84-4e93-9a92-d7275a0baf68",
   "metadata": {},
   "outputs": [
    {
     "data": {
      "text/plain": [
       "[Text(0, 0, 'Mumbai'),\n",
       " Text(1, 0, 'Delhi'),\n",
       " Text(2, 0, 'Chennai'),\n",
       " Text(3, 0, 'Gujarat'),\n",
       " Text(4, 0, 'Bengalore')]"
      ]
     },
     "execution_count": 59,
     "metadata": {},
     "output_type": "execute_result"
    },
    {
     "data": {
      "image/png": "[encoded data removed]",
      "text/plain": [
       "<Figure size 640x480 with 1 Axes>"
      ]
     },
     "metadata": {},
     "output_type": "display_data"
    }
   ],
   "source": [
    "#Comapring fraudulence with respect to location\n",
    "cp= sns.countplot(data= df, x='Location', hue='Is_Fraudulent')\n",
    "cp.set_xticklabels(cp.get_xticklabels(), rotation=45)"
   ]
  },
  {
   "cell_type": "markdown",
   "id": "79fe79af-130a-4432-b122-0807431d347d",
   "metadata": {},
   "source": [
    "#### From above chart we can see that Fraudulent transactions are in every location and don't have target on any particular location."
   ]
  },
  {
   "cell_type": "raw",
   "id": "ce1df610-9960-4092-8ef7-bdb5c9691695",
   "metadata": {},
   "source": []
  },
  {
   "cell_type": "code",
   "execution_count": 62,
   "id": "9c139d7f-ddb9-4696-8c1c-6d6fc09f47ad",
   "metadata": {},
   "outputs": [
    {
     "data": {
      "text/plain": [
       "[Text(0, 0, '300'),\n",
       " Text(1, 0, '350'),\n",
       " Text(2, 0, '400'),\n",
       " Text(3, 0, '500'),\n",
       " Text(4, 0, '700'),\n",
       " Text(5, 0, '800'),\n",
       " Text(6, 0, '900'),\n",
       " Text(7, 0, '1000'),\n",
       " Text(8, 0, '1200'),\n",
       " Text(9, 0, '1300'),\n",
       " Text(10, 0, '1500'),\n",
       " Text(11, 0, '1700'),\n",
       " Text(12, 0, '1800'),\n",
       " Text(13, 0, '2000'),\n",
       " Text(14, 0, '2200'),\n",
       " Text(15, 0, '2500'),\n",
       " Text(16, 0, '3000')]"
      ]
     },
     "execution_count": 62,
     "metadata": {},
     "output_type": "execute_result"
    },
    {
     "data": {
      "image/png": "[encoded data removed]",
      "text/plain": [
       "<Figure size 640x480 with 1 Axes>"
      ]
     },
     "metadata": {},
     "output_type": "display_data"
    }
   ],
   "source": [
    "#Comparing Fraudulence with transaction amount\n",
    "cm= sns.countplot(data= df, x='Transaction_Amount', hue='Is_Fraudulent')\n",
    "cm.set_xticklabels(cm.get_xticklabels(), rotation=45)"
   ]
  },
  {
   "cell_type": "markdown",
   "id": "45fc4254-8433-4ebe-8541-fe30bab89586",
   "metadata": {},
   "source": [
    "#### From above chart we can see that Fraudulence is not dependent to just big or small amount."
   ]
  },
  {
   "cell_type": "raw",
   "id": "22974547-ef70-4b1b-9c73-12e9eceb4250",
   "metadata": {},
   "source": []
  },
  {
   "cell_type": "code",
   "execution_count": 138,
   "id": "3f60cec3-25c5-4b6f-a0f3-97b6c603832e",
   "metadata": {},
   "outputs": [
    {
     "data": {
      "image/png": "[encoded data removed]",
      "text/plain": [
       "<Figure size 640x480 with 1 Axes>"
      ]
     },
     "metadata": {},
     "output_type": "display_data"
    }
   ],
   "source": [
    "#Comparing Fraudulence with respect to time of day\n",
    "cx = sns.countplot(x= 'Time_of_Day', data=df, hue=\"Is_Fraudulent\")\n",
    "\n",
    "for bars in cx.containers:\n",
    "    cx.bar_label(bars)"
   ]
  },
  {
   "cell_type": "markdown",
   "id": "77445b56-8be0-45af-b2e9-e931241139ff",
   "metadata": {},
   "source": [
    "#### From above chart we can see that fraudulent can happen any time of the day as it has happened."
   ]
  },
  {
   "cell_type": "raw",
   "id": "9c676d64-c788-4785-a78f-8760c981a3d3",
   "metadata": {},
   "source": []
  },
  {
   "cell_type": "code",
   "execution_count": 132,
   "id": "463047d9-03d1-4966-a9c2-61038d3308d1",
   "metadata": {},
   "outputs": [
    {
     "data": {
      "text/plain": [
       "23850"
      ]
     },
     "execution_count": 132,
     "metadata": {},
     "output_type": "execute_result"
    }
   ],
   "source": [
    "#Total transaction amount of the customers\n",
    "df['Transaction_Amount'].sum()"
   ]
  },
  {
   "cell_type": "code",
   "execution_count": 134,
   "id": "0d4118bf-edb3-4718-b15f-0131d029201e",
   "metadata": {},
   "outputs": [],
   "source": [
    "#Sum of fraud transaction amount\n",
    "fraud = df.loc[df['Is_Fraudulent'] == 1].sum()"
   ]
  },
  {
   "cell_type": "code",
   "execution_count": 135,
   "id": "78a4fb49-03e7-40ed-8b77-38639e8efcbd",
   "metadata": {},
   "outputs": [
    {
     "data": {
      "text/plain": [
       "Transaction_ID                                                       78\n",
       "Customer_ID                                                         878\n",
       "Transaction_Amount                                                 7850\n",
       "Location              DelhiGujaratMumbaiChennaiMumbaiChennaiBengalor...\n",
       "Time_of_Day           AfternoonMorningEveningAfternoonAfternoonMorni...\n",
       "Is_Fraudulent                                                         8\n",
       "dtype: object"
      ]
     },
     "execution_count": 135,
     "metadata": {},
     "output_type": "execute_result"
    }
   ],
   "source": [
    "fraud"
   ]
  },
  {
   "cell_type": "raw",
   "id": "599321f1-7037-47f5-b7a7-f7be1bc97e51",
   "metadata": {},
   "source": []
  },
  {
   "cell_type": "code",
   "execution_count": 136,
   "id": "081f9441-3e64-43c0-8fed-8cca86e197fa",
   "metadata": {},
   "outputs": [],
   "source": [
    "#Sum of normal transaction amount\n",
    "normal = df.loc[df['Is_Fraudulent'] == 0].sum()"
   ]
  },
  {
   "cell_type": "code",
   "execution_count": 137,
   "id": "905f4a06-b595-476e-a1db-c0b84f44f5cb",
   "metadata": {},
   "outputs": [
    {
     "data": {
      "text/plain": [
       "Transaction_ID                                                      132\n",
       "Customer_ID                                                        1332\n",
       "Transaction_Amount                                                16000\n",
       "Location              MumbaiChennaiBengaloreDelhiGujaratBengaloreDel...\n",
       "Time_of_Day           MorningEveningAfternoonMorningEveningMorningEv...\n",
       "Is_Fraudulent                                                         0\n",
       "dtype: object"
      ]
     },
     "execution_count": 137,
     "metadata": {},
     "output_type": "execute_result"
    }
   ],
   "source": [
    "normal"
   ]
  },
  {
   "cell_type": "markdown",
   "id": "d9aa9494-3e8b-419d-bb8b-063e3bfed250",
   "metadata": {},
   "source": [
    "#### From above data we can see that from total transaction of 23850, normal transaction amount is 16000 and fraud transcation amount is 7850."
   ]
  },
  {
   "cell_type": "raw",
   "id": "13c10793-e794-4b69-aca2-9b08e04b0e69",
   "metadata": {},
   "source": []
  },
  {
   "cell_type": "markdown",
   "id": "88b1cde7-d819-4a45-be2b-760fb026f43b",
   "metadata": {},
   "source": [
    "## Conclusion"
   ]
  },
  {
   "cell_type": "markdown",
   "id": "418300b6-912a-49fb-a39f-335914393085",
   "metadata": {},
   "source": [
    "### We can see from above analysis that fraud transaction rate of XYZ company is very high(40%). The company should immediately look into its Online Security System and most probably should get it changed or get it stronger. Not doing this can lead to less trust of customers. We can cleary see that the fraudulent transactions have minimal or no effect from location,time or amount."
   ]
  },
  {
   "cell_type": "code",
   "execution_count": null,
   "id": "fcc7d4d0-ed11-4783-b82c-467c33bfca5a",
   "metadata": {},
   "outputs": [],
   "source": []
  }
 ],
 "metadata": {
  "kernelspec": {
   "display_name": "Python 3 (ipykernel)",
   "language": "python",
   "name": "python3"
  },
  "language_info": {
   "codemirror_mode": {
    "name": "ipython",
    "version": 3
   },
   "file_extension": ".py",
   "mimetype": "text/x-python",
   "name": "python",
   "nbconvert_exporter": "python",
   "pygments_lexer": "ipython3",
   "version": "3.11.5"
  }
 },
 "nbformat": 4,
 "nbformat_minor": 5
}
